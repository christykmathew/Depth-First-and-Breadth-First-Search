{
  "nbformat": 4,
  "nbformat_minor": 0,
  "metadata": {
    "colab": {
      "name": "AISC_Prac1_101713.ipynb",
      "provenance": [],
      "collapsed_sections": []
    },
    "kernelspec": {
      "name": "python3",
      "display_name": "Python 3"
    }
  },
  "cells": [
    {
      "cell_type": "code",
      "metadata": {
        "id": "2bg2N7QAlIAD",
        "colab_type": "code",
        "colab": {
          "base_uri": "https://localhost:8080/",
          "height": 139
        },
        "outputId": "0e26c558-1b04-4f66-c2f2-ae83d22fdb2b"
      },
      "source": [
        "# Prac 1: Read the file, store the data in either adjacency matrix or adjacency list and display the data\n",
        "from google.colab import drive\n",
        "drive.mount('/content/drive')\n",
        "sample_text = open(\"/content/drive/My Drive/sample.txt\")\n",
        "txt = sample_text.readlines()\n",
        "print(txt)"
      ],
      "execution_count": null,
      "outputs": [
        {
          "output_type": "stream",
          "text": [
            "Go to this URL in a browser: https://accounts.google.com/o/oauth2/auth?client_id=947318989803-6bn6qk8qdgf4n4g3pfee6491hc0brc4i.apps.googleusercontent.com&redirect_uri=urn%3aietf%3awg%3aoauth%3a2.0%3aoob&response_type=code&scope=email%20https%3a%2f%2fwww.googleapis.com%2fauth%2fdocs.test%20https%3a%2f%2fwww.googleapis.com%2fauth%2fdrive%20https%3a%2f%2fwww.googleapis.com%2fauth%2fdrive.photos.readonly%20https%3a%2f%2fwww.googleapis.com%2fauth%2fpeopleapi.readonly\n",
            "\n",
            "Enter your authorization code:\n",
            "··········\n",
            "Mounted at /content/drive\n",
            "['8 13\\n', 'S G\\n', 'S A 6\\n', 'S B 2\\n', 'S C 1\\n', 'A D 3\\n', 'A G 20\\n', 'B D 2\\n', 'B E 6\\n', 'C B 3\\n', 'C E 6\\n', 'C F 4\\n', 'D F 5\\n', 'E G 2\\n', 'F G 1']\n"
          ],
          "name": "stdout"
        }
      ]
    },
    {
      "cell_type": "code",
      "metadata": {
        "id": "Yn5nYbrAPK0H",
        "colab_type": "code",
        "colab": {
          "base_uri": "https://localhost:8080/",
          "height": 306
        },
        "outputId": "e44bbc71-28b9-4724-e003-d918e0e83abe"
      },
      "source": [
        "total_nodes, total_edges = txt[0].split()\n",
        "start, goal = txt[1].split()\n",
        "start_node=[]\n",
        "end_node=[]\n",
        "cost = []\n",
        "for i in range(2,len(txt)):\n",
        "  a, b, c = txt[i].split()\n",
        "  start_node.append(a)\n",
        "  end_node.append(b)\n",
        "  cost.append(c)\n",
        "print(\"Start node:\",start,\"\\nEnd node: \", goal,\"\\nTotal nodes=\",total_nodes,\"\\nTotal edges= \",total_edges)\n",
        "for i,j,k in zip(start_node, end_node, cost):\n",
        "  print(i,\"->\",j,\"=\",k)"
      ],
      "execution_count": null,
      "outputs": [
        {
          "output_type": "stream",
          "text": [
            "Start node: S \n",
            "End node:  G \n",
            "Total nodes= 8 \n",
            "Total edges=  13\n",
            "S -> A = 6\n",
            "S -> B = 2\n",
            "S -> C = 1\n",
            "A -> D = 3\n",
            "A -> G = 20\n",
            "B -> D = 2\n",
            "B -> E = 6\n",
            "C -> B = 3\n",
            "C -> E = 6\n",
            "C -> F = 4\n",
            "D -> F = 5\n",
            "E -> G = 2\n",
            "F -> G = 1\n"
          ],
          "name": "stdout"
        }
      ]
    },
    {
      "cell_type": "code",
      "metadata": {
        "id": "V1RsgKdMQlx6",
        "colab_type": "code",
        "colab": {
          "base_uri": "https://localhost:8080/",
          "height": 34
        },
        "outputId": "3bc0014f-d4e4-4a0a-cd8b-485a34fdbba2"
      },
      "source": [
        "temp1 = set(start_node)\n",
        "temp2 = set(end_node)\n",
        "total_states = temp1.union(temp2)\n",
        "print(\"Total states= \",total_states)\n",
        "total_states = list(total_states)"
      ],
      "execution_count": null,
      "outputs": [
        {
          "output_type": "stream",
          "text": [
            "Total states=  {'A', 'D', 'E', 'G', 'B', 'C', 'S', 'F'}\n"
          ],
          "name": "stdout"
        }
      ]
    },
    {
      "cell_type": "code",
      "metadata": {
        "id": "yI2TmO2wRdsB",
        "colab_type": "code",
        "colab": {
          "base_uri": "https://localhost:8080/",
          "height": 34
        },
        "outputId": "39d44efc-a300-4d6c-a4e8-1f0f1603b8cc"
      },
      "source": [
        "values = dict()\n",
        "j = 0\n",
        "for i in total_states:\n",
        "  values[i] = j\n",
        "  j = j + 1\n",
        "print(values)"
      ],
      "execution_count": null,
      "outputs": [
        {
          "output_type": "stream",
          "text": [
            "{'A': 0, 'D': 1, 'E': 2, 'G': 3, 'B': 4, 'C': 5, 'S': 6, 'F': 7}\n"
          ],
          "name": "stdout"
        }
      ]
    },
    {
      "cell_type": "code",
      "metadata": {
        "id": "W3Zg6ZZY2O1H",
        "colab_type": "code",
        "colab": {
          "base_uri": "https://localhost:8080/",
          "height": 289
        },
        "outputId": "aaf8be9e-f7ef-4122-9744-799d1bea4b81"
      },
      "source": [
        "matrix = []\n",
        "for i in total_states:\n",
        "  x = []\n",
        "  for j in total_states:\n",
        "    flag = 0\n",
        "    for k in range(0, len(start_node)):\n",
        "        if(i == start_node[k] and j == end_node[k]):\n",
        "          x.append(int(cost[k]))\n",
        "          flag = 1\n",
        "          break\n",
        "    if(flag == 0):\n",
        "      x.append(0)\n",
        "  print('\\n')\n",
        "  matrix.append(x)"
      ],
      "execution_count": null,
      "outputs": [
        {
          "output_type": "stream",
          "text": [
            "\n",
            "\n",
            "\n",
            "\n",
            "\n",
            "\n",
            "\n",
            "\n",
            "\n",
            "\n",
            "\n",
            "\n",
            "\n",
            "\n",
            "\n",
            "\n"
          ],
          "name": "stdout"
        }
      ]
    },
    {
      "cell_type": "code",
      "metadata": {
        "id": "jmQgOCIRobbt",
        "colab_type": "code",
        "colab": {
          "base_uri": "https://localhost:8080/",
          "height": 187
        },
        "outputId": "f75a4acd-5e9c-418b-8531-4817094f9603"
      },
      "source": [
        "print(\"   \",end='')\n",
        "for i in total_states:\n",
        "  print(\" \",i, end='')\n",
        "print(\"\\n\")\n",
        "for i,j in zip(matrix, total_states):\n",
        "  print(j,\" \",i)"
      ],
      "execution_count": null,
      "outputs": [
        {
          "output_type": "stream",
          "text": [
            "     A  D  E  G  B  C  S  F\n",
            "\n",
            "A   [0, 3, 0, 20, 0, 0, 0, 0]\n",
            "D   [0, 0, 0, 0, 0, 0, 0, 5]\n",
            "E   [0, 0, 0, 2, 0, 0, 0, 0]\n",
            "G   [0, 0, 0, 0, 0, 0, 0, 0]\n",
            "B   [0, 2, 6, 0, 0, 0, 0, 0]\n",
            "C   [0, 0, 6, 0, 3, 0, 0, 4]\n",
            "S   [6, 0, 0, 0, 2, 1, 0, 0]\n",
            "F   [0, 0, 0, 1, 0, 0, 0, 0]\n"
          ],
          "name": "stdout"
        }
      ]
    },
    {
      "cell_type": "code",
      "metadata": {
        "id": "HVSwCYR839ao",
        "colab_type": "code",
        "colab": {
          "base_uri": "https://localhost:8080/",
          "height": 34
        },
        "outputId": "5244da14-207a-4aaa-f675-f604adaba048"
      },
      "source": [
        "#search algorithms DFS\n",
        "graph = dict()\n",
        "for i in total_states:\n",
        "  b = []\n",
        "  for k in total_states:\n",
        "    if (matrix[values[i]][values[k]] != 0):\n",
        "      b.append(total_states[values[k]])\n",
        "  graph[i] = b\n",
        "visited = set() \n",
        "print(\"The visited nodes are: \",end='')\n",
        "def dfs(visited, graph, node):\n",
        "    if node not in visited:\n",
        "        print (node,end = \" \")\n",
        "        visited.add(node)\n",
        "        for neighbour in graph[node]:\n",
        "            dfs(visited, graph, neighbour)\n",
        "\n",
        "dfs(visited, graph, start)"
      ],
      "execution_count": null,
      "outputs": [
        {
          "output_type": "stream",
          "text": [
            "The visited nodes are: S A D F G B E C "
          ],
          "name": "stdout"
        }
      ]
    },
    {
      "cell_type": "code",
      "metadata": {
        "id": "H9ExPzEv2rCD",
        "colab_type": "code",
        "colab": {
          "base_uri": "https://localhost:8080/",
          "height": 34
        },
        "outputId": "366b88db-3404-4c50-9006-e0e67b6f22f6"
      },
      "source": [
        "#search algorithms BFS\n",
        "visited = [] \n",
        "queue = []     \n",
        "def bfs(visited, graph, node):\n",
        "  visited.append(node)\n",
        "  queue.append(node)\n",
        "  print(\"The visited nodes are: \",end='')\n",
        "  while queue:\n",
        "    s = queue.pop(0) \n",
        "    print (s,end=\" \") \n",
        "    for neighbour in graph[s]:\n",
        "      if neighbour not in visited:\n",
        "        visited.append(neighbour)\n",
        "        queue.append(neighbour)\n",
        "\n",
        "bfs(visited, graph, start)"
      ],
      "execution_count": null,
      "outputs": [
        {
          "output_type": "stream",
          "text": [
            "The visited nodes are: S A B C D G E F "
          ],
          "name": "stdout"
        }
      ]
    }
  ]
}